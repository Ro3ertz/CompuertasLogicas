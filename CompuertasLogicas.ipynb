{
  "cells": [
    {
      "cell_type": "markdown",
      "metadata": {
        "id": "O0f33ETS9yYT"
      },
      "source": [
        "# Implementación de Funciones Lógicas con TLU\n",
        "TLU = Unidad Logica de Umbral\n"
      ]
    },
    {
      "cell_type": "code",
      "execution_count": 1,
      "metadata": {
        "id": "l32zJb2H-IW_"
      },
      "outputs": [],
      "source": [
        "import numpy as np"
      ]
    },
    {
      "cell_type": "code",
      "execution_count": 2,
      "metadata": {
        "id": "H58sgw6P-8fm"
      },
      "outputs": [],
      "source": [
        "# Implementacion de la funcion\n",
        "def TLU(entrada, pesos, umbral):\n",
        "  salida = np.dot(entrada,pesos)\n",
        "  if salida >= umbral:\n",
        "    return 1\n",
        "  else:\n",
        "    return 0"
      ]
    },
    {
      "cell_type": "code",
      "execution_count": 3,
      "metadata": {
        "id": "Ng2QWdIa_Q5g"
      },
      "outputs": [],
      "source": [
        "#Simulacion de Compuerta Logicas NOT\n",
        "def NOT(x1):\n",
        "  return TLU(x1, -1, -0.5)"
      ]
    },
    {
      "cell_type": "code",
      "execution_count": 4,
      "metadata": {
        "id": "T8EB1zm__1cT"
      },
      "outputs": [],
      "source": [
        "#Simulacion de Compuerta Logica AND\n",
        "def AND(x1, x2):\n",
        "  return TLU(np.array([x1, x2]), np.array([1, 1]), 1.5)"
      ]
    },
    {
      "cell_type": "code",
      "execution_count": 5,
      "metadata": {
        "id": "K2HJtZXnAlRH"
      },
      "outputs": [],
      "source": [
        "#Simulacion de Compuerta Logica OR\n",
        "def OR(x1, x2):\n",
        "  return TLU(np.array([x1, x2]), np.array([1, 1]), 0.5)"
      ]
    },
    {
      "cell_type": "code",
      "execution_count": 6,
      "metadata": {
        "colab": {
          "base_uri": "https://localhost:8080/"
        },
        "id": "CQ3VTxYdAwBY",
        "outputId": "2f425ca5-f9bf-4d6b-9942-ddbc3a72614e"
      },
      "outputs": [
        {
          "name": "stdout",
          "output_type": "stream",
          "text": [
            "NOT\n",
            "0 -> 1\n",
            "1 -> 0\n",
            "\n",
            "\n",
            "AND\n",
            "0 - 0 -> 0\n",
            "0 - 1 -> 0\n",
            "1 - 0 -> 0\n",
            "1 - 1 -> 1\n",
            "\n",
            "\n",
            "OR\n",
            "0 - 0 -> 0\n",
            "0 - 1 -> 1\n",
            "1 - 0 -> 1\n",
            "1 - 1 -> 1\n"
          ]
        }
      ],
      "source": [
        "# Tablas de verdad\n",
        "#Tabla de verdad NOT\n",
        "print(\"NOT\")\n",
        "print(f\"0 -> {NOT(0)}\")\n",
        "print(f\"1 -> {NOT(1)}\")\n",
        "print(\"\\n\")\n",
        "\n",
        "#Tabla de verdad AND\n",
        "print(\"AND\")\n",
        "print(f\"0 - 0 -> {AND(0,0)}\")\n",
        "print(f\"0 - 1 -> {AND(0,1)}\")\n",
        "print(f\"1 - 0 -> {AND(1,0)}\")\n",
        "print(f\"1 - 1 -> {AND(1,1)}\")\n",
        "print(\"\\n\")\n",
        "\n",
        "#Tabla de verdad NOT\n",
        "print(\"OR\")\n",
        "print(f\"0 - 0 -> {OR(0,0)}\")\n",
        "print(f\"0 - 1 -> {OR(0,1)}\")\n",
        "print(f\"1 - 0 -> {OR(1,0)}\")\n",
        "print(f\"1 - 1 -> {OR(1,1)}\")\n"
      ]
    },
    {
      "cell_type": "code",
      "execution_count": 7,
      "metadata": {
        "colab": {
          "base_uri": "https://localhost:8080/"
        },
        "id": "R9KB4jK9CXwg",
        "outputId": "9440bbd3-4ba2-4a2e-e793-8a28219732f5"
      },
      "outputs": [
        {
          "name": "stdout",
          "output_type": "stream",
          "text": [
            "NAND\n",
            "0 - 0 -> 1\n",
            "0 - 1 -> 1\n",
            "1 - 0 -> 1\n",
            "1 - 1 -> 0\n",
            "\n",
            "\n",
            "NOR\n",
            "0 - 0 -> 1\n",
            "0 - 1 -> 0\n",
            "1 - 0 -> 0\n",
            "1 - 1 -> 0\n",
            "\n",
            "\n",
            "XOR\n",
            "0 - 0 -> 0\n",
            "0 - 1 -> 1\n",
            "1 - 0 -> 1\n",
            "1 - 1 -> 0\n",
            "\n",
            "\n",
            "XNOR\n",
            "0 - 0 -> 1\n",
            "0 - 1 -> 0\n",
            "1 - 0 -> 0\n",
            "1 - 1 -> 1\n"
          ]
        }
      ],
      "source": [
        "#Resolviendo Problemas con Combinaciones NAND NOR XOR y XNOR\n",
        "\n",
        "#NADN\n",
        "def NAND(x1, x2):\n",
        "  return NOT(AND(x1, x2))\n",
        "\n",
        "#NOR\n",
        "def NOR(x1, x2):\n",
        "  return NOT(OR(x1, x2))\n",
        "\n",
        "#XOR\n",
        "def XOR(x1, x2):\n",
        "  return AND(NAND(x1, x2), OR(x1, x2))\n",
        "\n",
        "#XNOR\n",
        "def XNOR(x1, x2):\n",
        "  return NOT(XOR(x1, x2))\n",
        "\n",
        "#Tabla de verdad NAND\n",
        "\n",
        "#Tabla de verdad NAND\n",
        "print(\"NAND\")\n",
        "print(f\"0 - 0 -> {NAND(0,0)}\")\n",
        "print(f\"0 - 1 -> {NAND(0,1)}\")\n",
        "print(f\"1 - 0 -> {NAND(1,0)}\")\n",
        "print(f\"1 - 1 -> {NAND(1,1)}\")\n",
        "print(\"\\n\")\n",
        "\n",
        "#Tabla de verdad NOR\n",
        "print(\"NOR\")\n",
        "print(f\"0 - 0 -> {NOR(0,0)}\")\n",
        "print(f\"0 - 1 -> {NOR(0,1)}\")\n",
        "print(f\"1 - 0 -> {NOR(1,0)}\")\n",
        "print(f\"1 - 1 -> {NOR(1,1)}\")\n",
        "print(\"\\n\")\n",
        "#Tabla de verdad XOR\n",
        "print(\"XOR\")\n",
        "print(f\"0 - 0 -> {XOR(0,0)}\")\n",
        "print(f\"0 - 1 -> {XOR(0,1)}\")\n",
        "print(f\"1 - 0 -> {XOR(1,0)}\")\n",
        "print(f\"1 - 1 -> {XOR(1,1)}\")\n",
        "print(\"\\n\")\n",
        "\n",
        "#Tabla de verdad XNOR\n",
        "print(\"XNOR\")\n",
        "print(f\"0 - 0 -> {XNOR(0,0)}\")\n",
        "print(f\"0 - 1 -> {XNOR(0,1)}\")\n",
        "print(f\"1 - 0 -> {XNOR(1,0)}\")\n",
        "print(f\"1 - 1 -> {XNOR(1,1)}\")"
      ]
    },
    {
      "cell_type": "code",
      "execution_count": 9,
      "metadata": {
        "colab": {
          "base_uri": "https://localhost:8080/"
        },
        "id": "5OkznZyBEwZy",
        "outputId": "b9927e0b-4296-425e-f734-b4cb8faf7174"
      },
      "outputs": [
        {
          "name": "stdout",
          "output_type": "stream",
          "text": [
            "TLU Personalizada\n",
            "0 - 0 - 0 -> 0\n",
            "0 - 0 - 1 -> 1\n",
            "0 - 1 - 0 -> 1\n",
            "0 - 1 - 1 -> 0\n",
            "1 - 0 - 0 -> 0\n",
            "1 - 0 - 1 -> 0\n",
            "1 - 1 - 0 -> 0\n"
          ]
        }
      ],
      "source": [
        "#Resolviendo una Funcion Personalizada\n",
        "def TP(x1,x2,x3):\n",
        "  return AND(NOT(x1),XOR(x2,x3))\n",
        "\n",
        "#Tabla de verdad\n",
        "print(\"TLU Personalizada\")\n",
        "print(\"0 - 0 - 0 ->\", TP(0,0,0))\n",
        "print(\"0 - 0 - 1 ->\", TP(0,0,1))\n",
        "print(\"0 - 1 - 0 ->\", TP(0,1,0))\n",
        "print(\"0 - 1 - 1 ->\", TP(0,1,1))\n",
        "print(\"1 - 0 - 0 ->\", TP(1,0,0))\n",
        "print(\"1 - 0 - 1 ->\", TP(1,0,1))\n",
        "print(\"1 - 1 - 0 ->\", TP(1,1,0))\n",
        "\n"
      ]
    }
  ],
  "metadata": {
    "colab": {
      "provenance": []
    },
    "kernelspec": {
      "display_name": "Python 3",
      "name": "python3"
    },
    "language_info": {
      "name": "python"
    }
  },
  "nbformat": 4,
  "nbformat_minor": 0
}
